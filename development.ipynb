{
 "cells": [
  {
   "cell_type": "code",
   "execution_count": 101,
   "id": "initial_id",
   "metadata": {
    "collapsed": true,
    "ExecuteTime": {
     "end_time": "2024-01-11T15:17:59.492626431Z",
     "start_time": "2024-01-11T15:17:59.398801613Z"
    }
   },
   "outputs": [
    {
     "name": "stdout",
     "output_type": "stream",
     "text": [
      "The autoreload extension is already loaded. To reload it, use:\n",
      "  %reload_ext autoreload\n"
     ]
    }
   ],
   "source": [
    "from data_cleaning import *\n",
    "\n",
    "%load_ext autoreload\n",
    "%autoreload 2\n"
   ]
  },
  {
   "cell_type": "code",
   "outputs": [],
   "source": [
    "string = parse_raw_data(\"data_template.csv\")\n",
    "\n",
    "df_books = text_to_df(string)\n",
    "df = text_to_df(string)"
   ],
   "metadata": {
    "collapsed": false,
    "ExecuteTime": {
     "end_time": "2024-01-11T15:19:42.345278793Z",
     "start_time": "2024-01-11T15:19:42.186607669Z"
    }
   },
   "id": "8f8e3a0974eefe00",
   "execution_count": 106
  },
  {
   "cell_type": "code",
   "outputs": [
    {
     "name": "stdout",
     "output_type": "stream",
     "text": [
      "0 Lindsey Stirling,1986,American,\n",
      "2 ,Jennifir Smith,1985,American,\n",
      "4 ,Xav1er Sm1th,1978,American,\n",
      "6 ,Xavieer Smith,1985,American,\n",
      "8 ,Xander Smith,1985,American,\n",
      "10 ,Johann Smiht,\"New York, USA\",\n",
      "12 ,Xander Smith,1985,American,\n",
      "14 ,Xavier LeClerc,1978,French,\n",
      "16 ,Dr. Alica Smiht,1978,American,\n",
      "18 ,Jennifir Smoth,1978,American,\n",
      "20 ,Xavir Smith,1985,American,\n",
      "22 ,Alyssa Paker,1985,American,\n",
      "24 ,Xavieer Smiith,Canadian,\n",
      "26 ,Lavina D\"Costa,Canadian,Information Technology and Education,\n",
      "28 ,Lynxie McTech,1985,American,\n",
      "30 ,Yevgeny Zamyatin,Russian,\n",
      "32 ,Xav1er Sm1th,1985,American,\n",
      "34 ,J.K. Rowling,1965,British,\n",
      "36 ,Jennifir Smith,1975,American,\n",
      "38 ,Jennifir Smith,1985,American,\n",
      "40 ,Lavina Smith,\"University of California, Los Angeles\",\n",
      "42 ,Johann Smiht,1975,American,\n",
      "44 ,Johann Doe,1982,American,\n",
      "46 ,Xavier Leet,1985,American,\n",
      "48 ,Xav1er Sm1th,1985,American,\n",
      "50 ,Xaiver Jhons,1975,American,\n",
      "52 ,Xavier van der Berg,1978,Dutch,\n",
      "54 ,Jennifir Smith,American,\n",
      "56 ,Xavier Montogmery,1978,American,\n",
      "58 ,Lysa Ganger,1982-06-15,\n",
      "60 ,Xav1er Sm1th,Canadian,\n",
      "62 ,Xavier LeClerc,French,\n",
      "64 ,Randal E. Brt,1960,American,\n",
      "66 ,Xavieer Smiith,New York,American,\n",
      "68 ,Johh Smith,1980,American,\n",
      "70 ,Johann Smitz,1978,German,\n",
      "72 ,Dr. Al1c3 M@y3r,1975,American,\n",
      "74 ,Xav1er Sm1th,1980,American,\n",
      "76 ,Xav1er Sm1th,New York City,www.xaviersmith.com,\n",
      "78 ,Xavier LeClerc,1978,French,\n",
      "80 ,Kathleen Susskain,1978,American,\n",
      "82 ,Xander McTechie,1978,American,\n",
      "84 ,Johne Smithe,1978,American,\n",
      "86 ,Dr. Al1c3 Wund3rland,1985,American,\n",
      "88 ,Dr. Al1c3 Sm1th,Information Technology Education,University of Technolgy,\n",
      "90 ,Xavier O\"Sullivan,1978,Canadian,\n",
      "92 ,Dr. Al1c3 M4r10tt1,1975,American,\n",
      "94 ,Xav1er Sm1th,San Francsico,\n",
      "96 ,Dr. Alisha Jonson,1978,American,\n",
      "98 ,Lynxie Smitherz,1985,\n"
     ]
    }
   ],
   "source": [
    "for i in range(0,100,2):\n",
    "    print(i, string[i])"
   ],
   "metadata": {
    "collapsed": false,
    "ExecuteTime": {
     "end_time": "2024-01-11T19:28:14.618740688Z",
     "start_time": "2024-01-11T19:28:14.280530927Z"
    }
   },
   "id": "732ac9b85e9b9a9b",
   "execution_count": 111
  },
  {
   "cell_type": "code",
   "outputs": [
    {
     "data": {
      "text/plain": "0      Lindsey Stirling\n1      Lindsey Stirling\n2      Lindsey Stirling\n3        Jennifir Smith\n4        Jennifir Smith\n             ...       \n477        Xavier Smith\n478        Xavier Smith\n479        Xavier Smith\n480        Xavier Smith\n481        Xavier Smith\nName: author_name, Length: 482, dtype: object"
     },
     "execution_count": 51,
     "metadata": {},
     "output_type": "execute_result"
    }
   ],
   "source": [
    "replacements = {'1':'i', '3':'e', '4':'a', '@':'a', '0':'o'}\n",
    "df['author_name'].replace(to_replace=replacements, inplace=True, regex=True)\n",
    "df['author_name']"
   ],
   "metadata": {
    "collapsed": false,
    "ExecuteTime": {
     "end_time": "2024-01-11T14:01:19.384898421Z",
     "start_time": "2024-01-11T14:01:19.238224943Z"
    }
   },
   "id": "fa2839763703c2e1",
   "execution_count": 51
  },
  {
   "cell_type": "code",
   "outputs": [
    {
     "data": {
      "text/plain": "True"
     },
     "execution_count": 53,
     "metadata": {},
     "output_type": "execute_result"
    }
   ],
   "source": [
    "(df['author_name'] == df_books['author_name']).all()"
   ],
   "metadata": {
    "collapsed": false,
    "ExecuteTime": {
     "end_time": "2024-01-11T14:01:36.297526674Z",
     "start_time": "2024-01-11T14:01:36.219536409Z"
    }
   },
   "id": "271dadb029643c19",
   "execution_count": 53
  },
  {
   "cell_type": "code",
   "outputs": [
    {
     "data": {
      "text/plain": "0      Lindsey Stirling\n1      Lindsey Stirling\n2      Lindsey Stirling\n3        Jennifir Smith\n4        Jennifir Smith\n             ...       \n477        Xav1er Sm1th\n478        Xav1er Sm1th\n479        Xav1er Sm1th\n480        Xav1er Sm1th\n481        Xav1er Sm1th\nName: author_name, Length: 482, dtype: object"
     },
     "execution_count": 44,
     "metadata": {},
     "output_type": "execute_result"
    }
   ],
   "source": [
    "df['author_name']"
   ],
   "metadata": {
    "collapsed": false,
    "ExecuteTime": {
     "end_time": "2024-01-11T13:59:52.629656477Z",
     "start_time": "2024-01-11T13:59:52.530751677Z"
    }
   },
   "id": "7fa5cb22132a1062",
   "execution_count": 44
  },
  {
   "cell_type": "code",
   "outputs": [],
   "source": [],
   "metadata": {
    "collapsed": false
   },
   "id": "96aae12efc93609"
  }
 ],
 "metadata": {
  "kernelspec": {
   "display_name": "Python 3",
   "language": "python",
   "name": "python3"
  },
  "language_info": {
   "codemirror_mode": {
    "name": "ipython",
    "version": 2
   },
   "file_extension": ".py",
   "mimetype": "text/x-python",
   "name": "python",
   "nbconvert_exporter": "python",
   "pygments_lexer": "ipython2",
   "version": "2.7.6"
  }
 },
 "nbformat": 4,
 "nbformat_minor": 5
}
